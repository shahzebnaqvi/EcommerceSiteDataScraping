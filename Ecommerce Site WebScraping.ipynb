{
 "cells": [
  {
   "cell_type": "markdown",
   "metadata": {},
   "source": [
    "# Ecommerce Site Web Scraping"
   ]
  },
  {
   "cell_type": "markdown",
   "metadata": {},
   "source": [
    "Provide Complete Details Product Name, Product Price, Product ProductUrl, Product Rating, Product Review"
   ]
  },
  {
   "cell_type": "markdown",
   "metadata": {},
   "source": [
    "## Installing required library"
   ]
  },
  {
   "cell_type": "code",
   "execution_count": 6,
   "metadata": {},
   "outputs": [
    {
     "name": "stdout",
     "output_type": "stream",
     "text": [
      "Requirement already satisfied: requests in c:\\users\\naqvi\\anaconda3\\lib\\site-packages (2.21.0)\n",
      "Requirement already satisfied: urllib3<1.25,>=1.21.1 in c:\\users\\naqvi\\anaconda3\\lib\\site-packages (from requests) (1.24.1)\n",
      "Requirement already satisfied: chardet<3.1.0,>=3.0.2 in c:\\users\\naqvi\\anaconda3\\lib\\site-packages (from requests) (3.0.4)\n",
      "Requirement already satisfied: idna<2.9,>=2.5 in c:\\users\\naqvi\\anaconda3\\lib\\site-packages (from requests) (2.8)\n",
      "Requirement already satisfied: certifi>=2017.4.17 in c:\\users\\naqvi\\anaconda3\\lib\\site-packages (from requests) (2019.3.9)\n",
      "Collecting BeautifulSoup\n",
      "  Downloading https://files.pythonhosted.org/packages/40/f2/6c9f2f3e696ee6a1fb0e4d7850617e224ed2b0b1e872110abffeca2a09d4/BeautifulSoup-3.2.2.tar.gz\n",
      "    Complete output from command python setup.py egg_info:\n",
      "    Traceback (most recent call last):\n",
      "      File \"<string>\", line 1, in <module>\n",
      "      File \"C:\\Users\\Naqvi\\AppData\\Local\\Temp\\pip-install-j4qv6izf\\BeautifulSoup\\setup.py\", line 3\n",
      "        \"You're trying to run a very old release of Beautiful Soup under Python 3. This will not work.\"<>\"Please use Beautiful Soup 4, available through the pip package 'beautifulsoup4'.\"\n",
      "                                                                                                        ^\n",
      "    SyntaxError: invalid syntax\n",
      "    \n",
      "    ----------------------------------------\n"
     ]
    },
    {
     "name": "stderr",
     "output_type": "stream",
     "text": [
      "Command \"python setup.py egg_info\" failed with error code 1 in C:\\Users\\Naqvi\\AppData\\Local\\Temp\\pip-install-j4qv6izf\\BeautifulSoup\\\n"
     ]
    },
    {
     "name": "stdout",
     "output_type": "stream",
     "text": [
      "Requirement already satisfied: pandas in c:\\users\\naqvi\\anaconda3\\lib\\site-packages (1.1.3)\n",
      "Requirement already satisfied: pytz>=2017.2 in c:\\users\\naqvi\\anaconda3\\lib\\site-packages (from pandas) (2018.9)\n",
      "Requirement already satisfied: numpy>=1.15.4 in c:\\users\\naqvi\\anaconda3\\lib\\site-packages (from pandas) (1.16.2)\n",
      "Requirement already satisfied: python-dateutil>=2.7.3 in c:\\users\\naqvi\\anaconda3\\lib\\site-packages (from pandas) (2.8.0)\n",
      "Requirement already satisfied: six>=1.5 in c:\\users\\naqvi\\anaconda3\\lib\\site-packages (from python-dateutil>=2.7.3->pandas) (1.12.0)\n"
     ]
    }
   ],
   "source": [
    "!pip install requests\n",
    "!pip install BeautifulSoup\n",
    "!pip install pandas"
   ]
  },
  {
   "cell_type": "markdown",
   "metadata": {},
   "source": [
    "## Importing Libraries"
   ]
  },
  {
   "cell_type": "code",
   "execution_count": 2,
   "metadata": {},
   "outputs": [],
   "source": [
    "import requests\n",
    "import json\n",
    "from bs4 import BeautifulSoup as bs\n",
    "import pandas as pd\n"
   ]
  },
  {
   "cell_type": "markdown",
   "metadata": {},
   "source": [
    "Taking variable of list content"
   ]
  },
  {
   "cell_type": "code",
   "execution_count": 7,
   "metadata": {},
   "outputs": [],
   "source": [
    "df= pd.DataFrame(results, columns = [ 'Name', 'Price', 'ProductUrl', 'Rating','Review'])"
   ]
  },
  {
   "cell_type": "markdown",
   "metadata": {},
   "source": [
    "## By Searching The Keyword And defining the Page Number"
   ]
  },
  {
   "cell_type": "markdown",
   "metadata": {},
   "source": [
    "It Show the data And Save into Csv File also file=\"Scrapefile.csv\" in the same destination"
   ]
  },
  {
   "cell_type": "code",
   "execution_count": 9,
   "metadata": {},
   "outputs": [
    {
     "name": "stdout",
     "output_type": "stream",
     "text": [
      "Enter your item : =  pc\n",
      "Enter PageNumber From you want to Scrape data1\n",
      "Enter PageNumber till you want to Scrape data2\n",
      "                                                 Name       Price  \\\n",
      "0   Tecno Camon 15 - 4GB RAM - 128GB ROM - 4000 mA...  Rs. 23,599   \n",
      "1   Infinix ZERO 8i - 8GB RAM 128GB ROM - 48+16MP ...  Rs. 34,999   \n",
      "2   Vivo - Y20 - 4GB - 64GB - 5000mAh - Side Finge...  Rs. 25,999   \n",
      "3   Infinix Hot 8 Lite - 6.6  HD+ Waterdrop Displa...  Rs. 13,499   \n",
      "4   Itel Magic 2 Max || 1900mAh Battery || 1 Year ...   Rs. 2,599   \n",
      "..                                                ...         ...   \n",
      "35  Z83 MINI PC Intel Atom Z8350 Up to 1.92GHz 4GB...  Rs. 21,199   \n",
      "36  J36-V Mini PC Windows 10 Intel Celeron J3160 4...  Rs. 25,777   \n",
      "37  BMAX B2 Plus Mini PC Intel Celeron J4115 8GB L...  Rs. 48,790   \n",
      "38  BMAX B1 Plus Mini PC, Intel Celeron N3350 6G+6...  Rs. 28,667   \n",
      "39  Beelink U57 Mini PC Intel Core I5-5257U 8GB RA...  Rs. 59,773   \n",
      "\n",
      "                                           ProductUrl   Rating Review  \n",
      "0   //www.daraz.pk/products/tecno-camon-15-4gb-ram...  4.73333     15  \n",
      "1   //www.daraz.pk/products/infinix-zero-8i-8gb-ra...        5      4  \n",
      "2   //www.daraz.pk/products/vivo-y20-4gb-64gb-5000...   4.8125     16  \n",
      "3   //www.daraz.pk/products/infinix-hot-8-lite-2gb...  4.62406    133  \n",
      "4   //www.daraz.pk/products/itel-magic-2-max-1900m...  4.91667     12  \n",
      "..                                                ...      ...    ...  \n",
      "35  //www.daraz.pk/products/z83-mini-pc-intel-atom...        0      0  \n",
      "36  //www.daraz.pk/products/j36-v-mini-pc-windows-...        0      0  \n",
      "37  //www.daraz.pk/products/bmax-b2-plus-mini-pc-i...        0      0  \n",
      "38  //www.daraz.pk/products/bmax-b1-plus-mini-pc-i...        0      0  \n",
      "39  //www.daraz.pk/products/beelink-u57-mini-pc-in...        0      0  \n",
      "\n",
      "[120 rows x 5 columns]\n"
     ]
    }
   ],
   "source": [
    "\n",
    "Searchitem=input(\"Enter your item : =  \")\n",
    "# PageNumber=input(\"Enter page number\")\n",
    "Startpage=int(input(\"Enter PageNumber From you want to Scrape data\"))\n",
    "endpage=int(input(\"Enter PageNumber till you want to Scrape data\"))\n",
    "for PageNumber in range(Startpage,endpage):\n",
    "    headers = {\n",
    "        'User-Agent' : 'Mozilla/5.0'\n",
    "    }\n",
    "    \n",
    "    res = requests.get('https://www.daraz.pk/catalog/?page='+str(PageNumber)+'&q='+Searchitem, headers = headers)\n",
    "    soup = bs(res.content, 'lxml')\n",
    "    for script in soup.select('script'):\n",
    "        if 'window.pageData=' in script.text:\n",
    "            script = script.text.replace('window.pageData=','')\n",
    "            break\n",
    "    items = json.loads(script)['mods']['listItems']\n",
    "    results = []\n",
    "   \n",
    "    for item in items:\n",
    "        #print(item)\n",
    "        #extract other info you want\n",
    "        row = [ item['name'], item['priceShow'], item['productUrl'], item['ratingScore'],item['review']]\n",
    "        results.append(row)\n",
    "   \n",
    "\n",
    "    df2= pd.DataFrame(results, columns = [ 'Name', 'Price', 'ProductUrl', 'Rating','Review'])\n",
    "    df = df.append(df2)\n",
    "    \n",
    "    \n",
    "   \n",
    "    df.to_csv (r'Scrapefile.csv', index = False, header=True)\n",
    "    print(df)"
   ]
  },
  {
   "cell_type": "markdown",
   "metadata": {},
   "source": [
    "# Search categorywise"
   ]
  },
  {
   "cell_type": "code",
   "execution_count": 13,
   "metadata": {},
   "outputs": [],
   "source": [
    "CategoryWise= pd.DataFrame(results, columns = [ 'Name', 'Price', 'ProductUrl', 'Rating','Review'])"
   ]
  },
  {
   "cell_type": "code",
   "execution_count": 22,
   "metadata": {},
   "outputs": [
    {
     "name": "stdout",
     "output_type": "stream",
     "text": [
      "Enter PageNumber From you want to Scrape data1\n",
      "Enter PageNumber till you want to Scrape data2\n",
      "Enter your Category : =  mobiles-tablets-accessories\n",
      "                                                 Name       Price  \\\n",
      "0   iLife ZED PC CX3 21.5\" FHD - All-in-One Deskto...  Rs. 79,999   \n",
      "1   i-Life Zed PC II All in One - 17.3  FHD Touch ...  Rs. 43,999   \n",
      "2   i-Life Zed PC All in One - 17.3 TouchScreen Po...  Rs. 43,999   \n",
      "3   desktop gaming pc  ( core 2 duo )#GAMING PC#DE...   Rs. 7,275   \n",
      "4   Hp Compaq 8100 Elites,Intel Core i5 1st Gen 4G...  Rs. 14,999   \n",
      "..                                                ...         ...   \n",
      "35  Apple iPhone 6 6S 7 & 8 Case - Bumper Transluc...     Rs. 349   \n",
      "36   Vivo_Y30(2020) glitter Glue case with pop socket     Rs. 450   \n",
      "37  HD Picture Send You Design, Print Your Name An...     Rs. 599   \n",
      "38  All Models Samsung Cover Infinix Cover Vivoo O...     Rs. 345   \n",
      "39  OPPO  A5 / A3S / AX5 / Realme_C1 (1.5mm) Anti ...     Rs. 190   \n",
      "\n",
      "                                           ProductUrl Rating Review  \n",
      "0   //www.daraz.pk/products/ilife-zed-pc-cx3-215-f...      0      0  \n",
      "1   //www.daraz.pk/products/i-life-zed-pc-ii-all-i...      3      2  \n",
      "2   //www.daraz.pk/products/i-life-zed-pc-all-in-o...      0      0  \n",
      "3   //www.daraz.pk/products/desktop-gaming-pc-core...      0      0  \n",
      "4   //www.daraz.pk/products/hp-compaq-8100-elitesi...      0      0  \n",
      "..                                                ...    ...    ...  \n",
      "35  //www.daraz.pk/products/apple-iphone-6-6s-7-8-...      0      0  \n",
      "36  //www.daraz.pk/products/vivo_y302020-glitter-g...      0      0  \n",
      "37  //www.daraz.pk/products/hd-picture-send-you-de...      0      0  \n",
      "38  //www.daraz.pk/products/all-models-samsung-cov...      0      0  \n",
      "39  //www.daraz.pk/products/oppo-a5-a3s-ax5-realme...      0      0  \n",
      "\n",
      "[132 rows x 5 columns]\n"
     ]
    }
   ],
   "source": [
    "import requests\n",
    "import json\n",
    "from bs4 import BeautifulSoup as bs\n",
    "import pandas as pd\n",
    "Startpage=int(input(\"Enter PageNumber From you want to Scrape data\"))\n",
    "endpage=int(input(\"Enter PageNumber till you want to Scrape data\"))\n",
    "SearchCategory=input(\"Enter your Category : =  \")\n",
    "# PageNumber=input(\"Enter page number\")\n",
    "for PageNumber in range(Startpage,endpage):\n",
    "    headers = {\n",
    "        'User-Agent' : 'Mozilla/5.0'\n",
    "    }\n",
    "\n",
    "    res = requests.get('https://www.daraz.pk/'+SearchCategory+'/?page='+str(PageNumber), headers = headers)\n",
    "    soup = bs(res.content, 'lxml')\n",
    "    for script in soup.select('script'):\n",
    "        if 'window.pageData=' in script.text:\n",
    "            script = script.text.replace('window.pageData=','')\n",
    "            break\n",
    "    items = json.loads(script)['mods']['listItems']\n",
    "    results = []\n",
    "   \n",
    "    for item in items:\n",
    "        #print(item)\n",
    "        #extract other info you want\n",
    "        row = [ item['name'], item['priceShow'], item['productUrl'], item['ratingScore'],item['review']]\n",
    "        results.append(row)\n",
    "   \n",
    "\n",
    "    CategoryWise2= pd.DataFrame(results, columns = [ 'Name', 'Price', 'ProductUrl', 'Rating','Review'])\n",
    "    CategoryWise = CategoryWise.append(CategoryWise2)\n",
    "    \n",
    "    \n",
    "   \n",
    "    CategoryWise.to_csv (r'Categorywise.csv', index = False, header=True)\n",
    "    print(CategoryWise)"
   ]
  },
  {
   "cell_type": "code",
   "execution_count": null,
   "metadata": {},
   "outputs": [],
   "source": []
  }
 ],
 "metadata": {
  "kernelspec": {
   "display_name": "Python 3",
   "language": "python",
   "name": "python3"
  },
  "language_info": {
   "codemirror_mode": {
    "name": "ipython",
    "version": 3
   },
   "file_extension": ".py",
   "mimetype": "text/x-python",
   "name": "python",
   "nbconvert_exporter": "python",
   "pygments_lexer": "ipython3",
   "version": "3.7.3"
  }
 },
 "nbformat": 4,
 "nbformat_minor": 2
}
